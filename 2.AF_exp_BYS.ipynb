{
 "cells": [
  {
   "cell_type": "code",
   "execution_count": 1,
   "id": "bc99a325",
   "metadata": {},
   "outputs": [],
   "source": [
    "import pandas as pd\n",
    "import numpy as np\n",
    "from sklearn.model_selection import train_test_split#集成的划分训练集模型\n",
    "from sklearn.naive_bayes import GaussianNB#高斯贝叶斯分类器\n",
    "from sklearn.model_selection import cross_val_score#k折交叉验证\n",
    "from sklearn.preprocessing import StandardScaler\n",
    "from collections import Counter\n",
    "import matplotlib.pyplot as plt\n",
    "import numpy as np"
   ]
  },
  {
   "cell_type": "code",
   "execution_count": 8,
   "id": "59e9f3f3",
   "metadata": {},
   "outputs": [],
   "source": [
    "#读取excel\n",
    "AF_input_frame=pd.read_excel('pre_treatment_data.xlsx',sheet_name='AF_input')\n",
    "nonAF_input_frame=pd.read_excel('pre_treatment_data.xlsx',sheet_name='nonAF_input')\n",
    "AF_label_frame=pd.read_excel('pre_treatment_data.xlsx',sheet_name='AF_label')\n",
    "nonAF_label_frame=pd.read_excel('pre_treatment_data.xlsx',sheet_name='nonAF_label')\n",
    "\n",
    "#将data_frame转化为numpy的ndarry的格式\n",
    "AF_input=AF_input_frame.to_numpy()\n",
    "nonAF_input=nonAF_input_frame.to_numpy()\n",
    "AF_label=AF_label_frame.to_numpy()\n",
    "nonAF_label=nonAF_label_frame.to_numpy()\n",
    "\n",
    "AF_label=AF_label.flatten()#二维转一维，所有值在一维里\n",
    "nonAF_label=nonAF_label.flatten()"
   ]
  },
  {
   "cell_type": "code",
   "execution_count": 13,
   "id": "bffc0ad6",
   "metadata": {},
   "outputs": [
    {
     "name": "stdout",
     "output_type": "stream",
     "text": [
      "[[ 199.06666667   45.50159948  133.         ...  193.5\n",
      "  2070.39555556   10.47337202]\n",
      " [ 207.83333333   44.46727886  137.         ...  212.\n",
      "  1977.33888889   10.42738429]\n",
      " [ 210.06666667   61.78237793  127.         ...  192.\n",
      "  3817.06222222   11.08511342]\n",
      " ...\n",
      " [ 308.73333333   46.82800681  161.         ...  294.5\n",
      "  2192.86222222   10.53083999]\n",
      " [ 237.8          33.21184528  157.         ...  236.\n",
      "  1103.02666667    9.84369026]\n",
      " [ 241.53333333   29.57108197  118.         ...  248.5\n",
      "   874.44888889    9.61147091]] [1 1 1 ... 0 0 0]\n"
     ]
    },
    {
     "data": {
      "text/plain": [
       "array([ 199.06666667,   45.50159948,  133.        ,  281.        ,\n",
       "        148.        ,  193.5       , 2070.39555556,   10.47337202])"
      ]
     },
     "execution_count": 13,
     "metadata": {},
     "output_type": "execute_result"
    }
   ],
   "source": [
    "raw_x=np.concatenate([AF_input,nonAF_input])#数据集x\n",
    "raw_y=np.concatenate([AF_label[0:],nonAF_label[0:]])#标签y\n",
    "print(raw_x,raw_y)\n",
    "raw_x[0]"
   ]
  },
  {
   "cell_type": "code",
   "execution_count": 17,
   "id": "6881d4a4",
   "metadata": {},
   "outputs": [
    {
     "name": "stdout",
     "output_type": "stream",
     "text": [
      "0 0.7122776679841897\n",
      "1 0.7861166007905138\n",
      "2 0.7913043478260869\n",
      "3 0.5652420948616601\n",
      "4 0.7318181818181818\n",
      "5 0.7177124505928855\n",
      "6 0.4579051383399209\n",
      "7 0.791205533596838\n"
     ]
    }
   ],
   "source": [
    "#将八个属性的每个属性单独拿出来，算出各自的正确率。\n",
    "#均值,标准差,最小值,最大值,范围,中值,方差,熵\n",
    "raw_x1=raw_x[:,[0,1]]\n",
    "raw_x1[:,[1]]=0\n",
    "for i in range(8):\n",
    "    raw_x1[:,[0]]=raw_x[:,[i]]\n",
    "    acc_list=[]\n",
    "    k=10#十折交叉\n",
    "    model=GaussianNB()\n",
    "    acc=cross_val_score(model,raw_x1,raw_y,cv=k,scoring='accuracy')\n",
    "    mean_acc=np.array(acc).mean()\n",
    "    print(str(i),mean_acc)"
   ]
  },
  {
   "cell_type": "code",
   "execution_count": 5,
   "id": "9a7e4798",
   "metadata": {},
   "outputs": [
    {
     "name": "stdout",
     "output_type": "stream",
     "text": [
      "0.8096096837944664\n"
     ]
    }
   ],
   "source": [
    "#10折交叉验证\n",
    "\n",
    "acc_list=[]\n",
    "\n",
    "##ss=StandardScaler() #不需要归一化，归一化前后概率相同\n",
    "##raw_x=ss.fit_transform(raw_x)\n",
    "\n",
    "k=10#十折交叉\n",
    "model=GaussianNB()\n",
    "acc=cross_val_score(model,raw_x,raw_y,cv=k,scoring='accuracy')\n",
    "mean_acc=np.array(acc).mean()\n",
    "print(mean_acc)"
   ]
  },
  {
   "cell_type": "code",
   "execution_count": 8,
   "id": "d5bd6587",
   "metadata": {},
   "outputs": [
    {
     "name": "stdout",
     "output_type": "stream",
     "text": [
      "[[199.06666667  45.50159948 193.5       ]\n",
      " [207.83333333  44.46727886 212.        ]\n",
      " [210.06666667  61.78237793 192.        ]\n",
      " ...\n",
      " [308.73333333  46.82800681 294.5       ]\n",
      " [237.8         33.21184528 236.        ]\n",
      " [241.53333333  29.57108197 248.5       ]]\n"
     ]
    }
   ],
   "source": [
    "raw_x1=raw_x[:,[0,1,5]]#选取均值，标准差，中位数三个特征属性放入贝叶斯分类器中训练\n",
    "print(raw_x1)"
   ]
  },
  {
   "cell_type": "code",
   "execution_count": 9,
   "id": "d5309721",
   "metadata": {},
   "outputs": [
    {
     "name": "stdout",
     "output_type": "stream",
     "text": [
      "0.8355237154150197\n"
     ]
    }
   ],
   "source": [
    "#选取均值，标准差，中位数三个特征属性放入贝叶斯分类器中训练,得到最佳准确率。\n",
    "raw_x1=raw_x[:,[0,1,5]]#选取均值，标准差，中位数三个特征属性放入贝叶斯分类器中训练\n",
    "acc_list=[]\n",
    "k=10#十折交叉\n",
    "model=GaussianNB()\n",
    "acc=cross_val_score(model,raw_x1,raw_y,cv=k,scoring='accuracy')\n",
    "mean_acc=np.array(acc).mean()\n",
    "print(mean_acc)"
   ]
  },
  {
   "cell_type": "code",
   "execution_count": 69,
   "id": "2e93c270",
   "metadata": {},
   "outputs": [
    {
     "data": {
      "text/plain": [
       "[<matplotlib.lines.Line2D at 0x2ad59305580>]"
      ]
     },
     "execution_count": 69,
     "metadata": {},
     "output_type": "execute_result"
    },
    {
     "data": {
      "image/png": "[encoded data removed]",
      "text/plain": [
       "<Figure size 432x288 with 1 Axes>"
      ]
     },
     "metadata": {
      "needs_background": "light"
     },
     "output_type": "display_data"
    }
   ],
   "source": [
    "#留出法的影响不大，可删除\n",
    "index=[]#每次测试集的划分比例\n",
    "acc=[]\n",
    "for i in range(1,10):\n",
    "    index.append(0.1*i)\n",
    "    x_train,x_test,y_train,y_test=train_test_split(raw_x,raw_y,test_size=0.1*i,random_state=0)\n",
    "#创建BYS模型\n",
    "    model=GaussianNB()\n",
    "    model.fit(x_train,y_train)#模型训练\n",
    "    y_pred=model.predict(x_test)#预测测试集\n",
    "    acc.append(Counter(y_pred==y_test)[True]/x_test.shape[0])\n",
    "plt.plot(index,acc)"
   ]
  }
 ],
 "metadata": {
  "kernelspec": {
   "display_name": "trian",
   "language": "python",
   "name": "trian"
  },
  "language_info": {
   "codemirror_mode": {
    "name": "ipython",
    "version": 3
   },
   "file_extension": ".py",
   "mimetype": "text/x-python",
   "name": "python",
   "nbconvert_exporter": "python",
   "pygments_lexer": "ipython3",
   "version": "3.9.12"
  }
 },
 "nbformat": 4,
 "nbformat_minor": 5
}
