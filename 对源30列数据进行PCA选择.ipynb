{
 "cells": [
  {
   "cell_type": "code",
   "execution_count": 1,
   "id": "810855f7",
   "metadata": {},
   "outputs": [],
   "source": [
    "import pandas as pd\n",
    "import numpy as np\n",
    "import matplotlib.pyplot as plt\n",
    "import math\n",
    "from sklearn.decomposition import PCA\n",
    "from sklearn.preprocessing import StandardScaler\n",
    "from sklearn.neighbors import KNeighborsClassifier#KNN分类器\n",
    "from sklearn.model_selection import cross_val_score#k折交叉验证"
   ]
  },
  {
   "cell_type": "code",
   "execution_count": 14,
   "id": "c286f12f",
   "metadata": {},
   "outputs": [
    {
     "name": "stdout",
     "output_type": "stream",
     "text": [
      "(17246, 30) (23236, 30)\n"
     ]
    }
   ],
   "source": [
    "#AF_和nonAF_的源数据\n",
    "AF_data_frame=pd.read_excel('RR_seg_AF.xls',sheet_name='Sheet1')\n",
    "nonAF_data_frame=pd.read_excel('RR_seg_nonAF.xls',sheet_name='Sheet1')\n",
    "AF_data0=AF_data_frame.to_numpy()\n",
    "nonAF_data0=nonAF_data_frame.to_numpy()\n",
    "print(AF_data.shape,nonAF_data.shape)"
   ]
  },
  {
   "cell_type": "code",
   "execution_count": 3,
   "id": "a6ed3245",
   "metadata": {},
   "outputs": [
    {
     "data": {
      "text/plain": [
       "(17246, 30)"
      ]
     },
     "execution_count": 3,
     "metadata": {},
     "output_type": "execute_result"
    }
   ],
   "source": [
    "AF_data.shape"
   ]
  },
  {
   "cell_type": "code",
   "execution_count": 20,
   "id": "93a7ef6d",
   "metadata": {
    "scrolled": true
   },
   "outputs": [
    {
     "name": "stdout",
     "output_type": "stream",
     "text": [
      "0.7140690023008658\n",
      "0.7445022779254528\n",
      "0.7642145513409352\n",
      "0.7794805566103766\n",
      "0.7890405587384578\n",
      "0.7946972889904989\n"
     ]
    },
    {
     "data": {
      "text/plain": [
       "[<matplotlib.lines.Line2D at 0x1be19c55760>]"
      ]
     },
     "execution_count": 20,
     "metadata": {},
     "output_type": "execute_result"
    },
    {
     "data": {
      "image/png": "[encoded data removed]",
      "text/plain": [
       "<Figure size 432x288 with 1 Axes>"
      ]
     },
     "metadata": {
      "needs_background": "light"
     },
     "output_type": "display_data"
    }
   ],
   "source": [
    "###对30个RR属性列 进行PCA\n",
    "acc_list=[]\n",
    "for i in range(5,31,5):\n",
    "    pca=PCA(n_components=i,svd_solver='full')\n",
    "    pca.fit(AF_data0)\n",
    "    AF_data=pca.transform(AF_data0)\n",
    "\n",
    "    pca=PCA(n_components=i,svd_solver='full')\n",
    "    pca.fit(nonAF_data0)\n",
    "    nonAF_data=pca.transform(nonAF_data0)\n",
    "\n",
    "    AF_input=np.empty([AF_data.shape[0],8])\n",
    "    AF_input[:,0]=np.mean(AF_data,axis=1)#均值\n",
    "    AF_input[:,1]=np.std(AF_data,axis=1)#标准差\n",
    "    AF_input[:,2]=np.amin(AF_data,axis=1)#最小值\n",
    "    AF_input[:,3]=np.amax(AF_data,axis=1)#最大值\n",
    "    AF_input[:,4]=np.ptp(AF_data,axis=1)#范围\n",
    "    AF_input[:,5]=np.median(AF_data,axis=1)#中值\n",
    "    AF_input[:,6]=np.var(AF_data,axis=1)#方差\n",
    "    AF_input[:,7]=np.log(2*math.pi*math.e*np.var(AF_data,axis=1))#熵\n",
    "    nonAF_input=np.empty([nonAF_data.shape[0],8])\n",
    "    nonAF_input[:,0]=np.mean(nonAF_data,axis=1)#均值\n",
    "    nonAF_input[:,1]=np.std(nonAF_data,axis=1)#标准差\n",
    "    nonAF_input[:,2]=np.amin(nonAF_data,axis=1)#最小值\n",
    "    nonAF_input[:,3]=np.amax(nonAF_data,axis=1)#最大值\n",
    "    nonAF_input[:,4]=np.ptp(nonAF_data,axis=1)#范围\n",
    "    nonAF_input[:,5]=np.median(nonAF_data,axis=1)#中值\n",
    "    nonAF_input[:,6]=np.var(nonAF_data,axis=1)#方差\n",
    "    nonAF_input[:,7]=np.log(2*math.pi*math.e*np.var(nonAF_data,axis=1))#熵\n",
    "    raw_x=np.concatenate([AF_input,nonAF_input])#数据集x\n",
    "    raw_y=np.concatenate([AF_label[0:],nonAF_label[0:]])#标签y\n",
    "    \n",
    "    k=10\n",
    "    m=100#p值的方位\n",
    "    m_min=10\n",
    "    m_max=10\n",
    "    m_interval=10\n",
    "    index=np.array(range(m_min,m_max+1,m_interval))#第几次的实验序号\n",
    "    for i in range(m_min,m_max+1,m_interval):#要保持x和y的维度一样\n",
    "        model=KNeighborsClassifier(n_neighbors=i,weights='uniform',p=2)\n",
    "        acc=cross_val_score(model,raw_x,raw_y,cv=k,scoring='accuracy')\n",
    "        mean_acc=np.array(acc).mean()\n",
    "        print(mean_acc)\n",
    "        acc_list.append(mean_acc)\n",
    "index=[5,10,15,20,25,30]\n",
    "plt.plot(index,np.array(acc_list))"
   ]
  },
  {
   "cell_type": "code",
   "execution_count": 19,
   "id": "664692fd",
   "metadata": {},
   "outputs": [
    {
     "data": {
      "text/plain": [
       "[0.7140690023008658,\n",
       " 0.7445022779254528,\n",
       " 0.7642145513409352,\n",
       " 0.7794805566103766,\n",
       " 0.7890405587384578,\n",
       " 0.7946972889904989]"
      ]
     },
     "execution_count": 19,
     "metadata": {},
     "output_type": "execute_result"
    }
   ],
   "source": [
    "acc_list"
   ]
  },
  {
   "cell_type": "code",
   "execution_count": 5,
   "id": "5b2ca67e",
   "metadata": {},
   "outputs": [
    {
     "name": "stdout",
     "output_type": "stream",
     "text": [
      "[[ 6.09262499e+00  3.96701286e+01 -5.00333918e+01 ... -1.27310642e+00\n",
      "   1.57371911e+03  1.01990740e+01]\n",
      " [ 1.43793031e+01  5.72238256e+01 -6.36126593e+01 ...  1.35999305e+01\n",
      "   3.27456621e+03  1.09318178e+01]\n",
      " [ 1.86726508e+01  6.14481361e+01 -7.16409687e+01 ...  1.09902414e+01\n",
      "   3.77587343e+03  1.10742641e+01]\n",
      " ...\n",
      " [ 1.93429913e+01  1.47888654e+02 -2.94170133e+02 ... -2.59870484e+00\n",
      "   2.18710540e+04  1.28307964e+01]\n",
      " [-1.72197108e+01  8.04677007e+01 -4.23731495e+02 ...  2.63097204e-01\n",
      "   6.47505086e+03  1.16135888e+01]\n",
      " [-1.92998813e+00  7.84846506e+01 -3.74813214e+02 ...  7.62255927e+00\n",
      "   6.15984039e+03  1.15636832e+01]] [[ 1.84069014e+01  8.79291657e+01 -1.31670839e+01 ... -9.29208716e-01\n",
      "   7.73153818e+03  1.17909402e+01]\n",
      " [ 1.68329681e+01  8.83060975e+01 -1.21758217e+01 ... -2.31733495e+00\n",
      "   7.79796686e+03  1.17994954e+01]\n",
      " [ 1.81501719e+01  8.58752598e+01 -1.54628033e+01 ...  1.98347563e+00\n",
      "   7.37456024e+03  1.17436686e+01]\n",
      " ...\n",
      " [ 2.62215241e+01  1.26866703e+02 -1.24086716e+02 ...  1.54489782e+01\n",
      "   1.60951602e+04  1.25241510e+01]\n",
      " [ 9.76896246e+00  5.41503661e+01 -6.73875991e+01 ...  6.57633401e+00\n",
      "   2.93226215e+03  1.08214065e+01]\n",
      " [ 4.48766479e+00  5.27429104e+01 -4.50019021e+01 ... -3.25000207e+00\n",
      "   2.78181460e+03  1.07687358e+01]]\n"
     ]
    }
   ],
   "source": [
    "###最新的特种工程，特征属性加到十列，样本的属性有均值，标准差，最小值，最大值，范围，中值，方差，熵\n",
    "AF_input=np.empty([AF_data.shape[0],8])\n",
    "AF_input[:,0]=np.mean(AF_data,axis=1)#均值\n",
    "AF_input[:,1]=np.std(AF_data,axis=1)#标准差\n",
    "AF_input[:,2]=np.amin(AF_data,axis=1)#最小值\n",
    "AF_input[:,3]=np.amax(AF_data,axis=1)#最大值\n",
    "AF_input[:,4]=np.ptp(AF_data,axis=1)#范围\n",
    "AF_input[:,5]=np.median(AF_data,axis=1)#中值\n",
    "AF_input[:,6]=np.var(AF_data,axis=1)#方差\n",
    "AF_input[:,7]=np.log(2*math.pi*math.e*np.var(AF_data,axis=1))#熵\n",
    "#AF_input[:,8]=np.std(AF_data,axis=1)#方差\n",
    "#AF_input[:,9]=np.std(AF_data,axis=1)#方差\n",
    "nonAF_input=np.empty([nonAF_data.shape[0],8])\n",
    "nonAF_input[:,0]=np.mean(nonAF_data,axis=1)#均值\n",
    "nonAF_input[:,1]=np.std(nonAF_data,axis=1)#标准差\n",
    "nonAF_input[:,2]=np.amin(nonAF_data,axis=1)#最小值\n",
    "nonAF_input[:,3]=np.amax(nonAF_data,axis=1)#最大值\n",
    "nonAF_input[:,4]=np.ptp(nonAF_data,axis=1)#范围\n",
    "nonAF_input[:,5]=np.median(nonAF_data,axis=1)#中值\n",
    "nonAF_input[:,6]=np.var(nonAF_data,axis=1)#方差\n",
    "nonAF_input[:,7]=np.log(2*math.pi*math.e*np.var(nonAF_data,axis=1))#熵\n",
    "print(AF_input,nonAF_input)"
   ]
  },
  {
   "cell_type": "code",
   "execution_count": 6,
   "id": "4bb86889",
   "metadata": {},
   "outputs": [
    {
     "name": "stdout",
     "output_type": "stream",
     "text": [
      "(17246,) (23236,)\n"
     ]
    }
   ],
   "source": [
    "AF_label=np.ones(AF_input.shape[0])\n",
    "nonAF_label=np.zeros(nonAF_input.shape[0])\n",
    "print(AF_label.shape,nonAF_label.shape)"
   ]
  },
  {
   "cell_type": "code",
   "execution_count": 7,
   "id": "d71a4b77",
   "metadata": {},
   "outputs": [
    {
     "name": "stdout",
     "output_type": "stream",
     "text": [
      "0.8207095796356295\n",
      "0.8268853408395378\n",
      "0.8250572470926798\n",
      "0.8240195695614101\n",
      "0.8235748811251888\n",
      "0.8226362130599758\n",
      "0.8217715275425446\n",
      "0.8199929324275648\n",
      "0.8193012328228215\n",
      "0.8183872195057191\n",
      "0.8177695817637108\n",
      "0.8171273075770429\n",
      "0.8169296608150942\n",
      "0.8158180678486954\n",
      "0.8146323154011579\n",
      "0.8139159366437037\n",
      "0.8127548633488775\n",
      "0.8121867425421978\n",
      "0.811198600249708\n",
      "0.8107539240157868\n"
     ]
    },
    {
     "data": {
      "text/plain": [
       "(10.0, 201.0)"
      ]
     },
     "execution_count": 7,
     "metadata": {},
     "output_type": "execute_result"
    },
    {
     "data": {
      "image/png": "[encoded data removed]",
      "text/plain": [
       "<Figure size 432x288 with 1 Axes>"
      ]
     },
     "metadata": {
      "needs_background": "light"
     },
     "output_type": "display_data"
    }
   ],
   "source": [
    "raw_x=np.concatenate([AF_input,nonAF_input])#数据集x\n",
    "raw_y=np.concatenate([AF_label[0:],nonAF_label[0:]])#标签y\n",
    "acc_list=[]\n",
    "ss=StandardScaler()\n",
    "raw_x=ss.fit_transform(raw_x)\n",
    "k=10\n",
    "m=4760#p值的方位\n",
    "m_min=10\n",
    "m_max=200\n",
    "m_interval=10\n",
    "index=np.array(range(m_min,m_max+1,m_interval))#第几次的实验序号\n",
    "for i in range(m_min,m_max+1,m_interval):#要保持x和y的维度一样\n",
    "    model=KNeighborsClassifier(n_neighbors=i,weights='uniform',p=2)\n",
    "    acc=cross_val_score(model,raw_x,raw_y,cv=k,scoring='accuracy')\n",
    "    mean_acc=np.array(acc).mean()\n",
    "    print(mean_acc)\n",
    "    acc_list.append(mean_acc)\n",
    "plt.plot(index,np.array(acc_list))\n",
    "plt.xlim(m_min,m_max+1)"
   ]
  },
  {
   "cell_type": "code",
   "execution_count": 33,
   "id": "71647e35",
   "metadata": {},
   "outputs": [],
   "source": [
    "#由numpy的ndarry格式转换为pandas的data_frame格式，用于存储\n",
    "AF_input_frame=pd.DataFrame(AF_input)\n",
    "nonAF_input_frame=pd.DataFrame(nonAF_input)\n",
    "AF_label_frame=pd.DataFrame(AF_label)\n",
    "nonAF_label_frame=pd.DataFrame(nonAF_label)\n",
    "\n",
    "#使用with上下文管理器进行文件处理\n",
    "with pd.ExcelWriter('PCA_pre_treatment_data.xlsx')as f:\n",
    "    #header=False表示无列标签，index=False表示无行标签\n",
    "    AF_input_frame.to_excel(f,sheet_name='AF_input',header=False,index=False)\n",
    "    nonAF_input_frame.to_excel(f,sheet_name='nonAF_input',header=False,index=False)\n",
    "    AF_label_frame.to_excel(f,sheet_name='AF_label',header=False,index=False)\n",
    "    nonAF_label_frame.to_excel(f,sheet_name='nonAF_label',header=False,index=False)"
   ]
  },
  {
   "cell_type": "code",
   "execution_count": null,
   "id": "6aaa82f1",
   "metadata": {},
   "outputs": [],
   "source": []
  }
 ],
 "metadata": {
  "kernelspec": {
   "display_name": "trian",
   "language": "python",
   "name": "trian"
  },
  "language_info": {
   "codemirror_mode": {
    "name": "ipython",
    "version": 3
   },
   "file_extension": ".py",
   "mimetype": "text/x-python",
   "name": "python",
   "nbconvert_exporter": "python",
   "pygments_lexer": "ipython3",
   "version": "3.9.12"
  }
 },
 "nbformat": 4,
 "nbformat_minor": 5
}
