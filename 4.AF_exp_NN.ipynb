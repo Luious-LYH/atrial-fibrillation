{
 "cells": [
  {
   "cell_type": "code",
   "execution_count": 8,
   "id": "d631a185",
   "metadata": {},
   "outputs": [],
   "source": [
    "import pandas as pd\n",
    "import numpy as np\n",
    "from sklearn.model_selection import train_test_split#集成的划分训练集模型\n",
    "from sklearn.model_selection import cross_val_score#k折交叉验证\n",
    "from sklearn.decomposition import PCA\n",
    "from sklearn.model_selection import KFold\n",
    "from sklearn.neural_network import MLPClassifier#神经网络，分层状态机\n",
    "from sklearn.preprocessing import StandardScaler"
   ]
  },
  {
   "cell_type": "code",
   "execution_count": 2,
   "id": "22135619",
   "metadata": {},
   "outputs": [],
   "source": [
    "#读取excel\n",
    "AF_input_frame=pd.read_excel('pre_treatment_data.xlsx',sheet_name='AF_input')\n",
    "nonAF_input_frame=pd.read_excel('pre_treatment_data.xlsx',sheet_name='nonAF_input')\n",
    "AF_label_frame=pd.read_excel('pre_treatment_data.xlsx',sheet_name='AF_label')\n",
    "nonAF_label_frame=pd.read_excel('pre_treatment_data.xlsx',sheet_name='nonAF_label')\n",
    "\n",
    "#将data_frame转化为numpy的ndarry的格式\n",
    "AF_input=AF_input_frame.to_numpy()\n",
    "nonAF_input=nonAF_input_frame.to_numpy()\n",
    "AF_label=AF_label_frame.to_numpy()\n",
    "nonAF_label=nonAF_label_frame.to_numpy()\n",
    "\n",
    "AF_label=AF_label.flatten()#二维转一维，所有值在一维里\n",
    "nonAF_label=nonAF_label.flatten()"
   ]
  },
  {
   "cell_type": "code",
   "execution_count": 3,
   "id": "f8387591",
   "metadata": {},
   "outputs": [
    {
     "data": {
      "text/plain": [
       "(40480, 6)"
      ]
     },
     "execution_count": 3,
     "metadata": {},
     "output_type": "execute_result"
    }
   ],
   "source": [
    "raw_x=np.concatenate([AF_input,nonAF_input])#数据集x\n",
    "raw_y=np.concatenate([AF_label[0:],nonAF_label[0:]])#标签y"
   ]
  },
  {
   "cell_type": "code",
   "execution_count": 4,
   "id": "a95dd9cc",
   "metadata": {},
   "outputs": [
    {
     "data": {
      "text/plain": [
       "0.8638833992094861"
      ]
     },
     "execution_count": 4,
     "metadata": {},
     "output_type": "execute_result"
    }
   ],
   "source": [
    "#所有特征，未选择提取\n",
    "model = MLPClassifier(hidden_layer_sizes=(10, 10), max_iter=500)\n",
    "acc = cross_val_score(model,raw_x, raw_y, cv = 10, scoring='accuracy')\n",
    "mean_acc = np.array(acc).mean()\n",
    "mean_acc"
   ]
  },
  {
   "cell_type": "code",
   "execution_count": 10,
   "id": "5fc8e22c",
   "metadata": {},
   "outputs": [
    {
     "data": {
      "text/plain": [
       "0.8969120553359684"
      ]
     },
     "execution_count": 10,
     "metadata": {},
     "output_type": "execute_result"
    }
   ],
   "source": [
    "#将特征进行归一化，得到全部特征的概率，有显著提升\n",
    "ss = StandardScaler()\n",
    "std_x = ss.fit_transform(raw_x)\n",
    "model = MLPClassifier(hidden_layer_sizes=(10, 10), max_iter=500)\n",
    "acc = cross_val_score(model,std_x, raw_y, cv = 10, scoring='accuracy')\n",
    "mean_acc = np.array(acc).mean()\n",
    "mean_acc"
   ]
  },
  {
   "cell_type": "code",
   "execution_count": 15,
   "id": "84070b8d",
   "metadata": {},
   "outputs": [],
   "source": [
    "#选择6个特征，并进行归一化\n",
    "ss = StandardScaler()\n",
    "std_x1 = ss.fit_transform(raw_x[:,[0,1,2,4,5,7]])"
   ]
  },
  {
   "cell_type": "code",
   "execution_count": 14,
   "id": "bd2dbbfa",
   "metadata": {},
   "outputs": [
    {
     "data": {
      "text/plain": [
       "0.9022974308300394"
      ]
     },
     "execution_count": 14,
     "metadata": {},
     "output_type": "execute_result"
    }
   ],
   "source": [
    "#通过贝叶斯得到的概率，选择了6个重要特征\n",
    "ss = StandardScaler()\n",
    "std_x1 = ss.fit_transform(raw_x[:,[0,1,2,4,5,7]])\n",
    "model = MLPClassifier(hidden_layer_sizes=(10, 10), max_iter=500)\n",
    "acc = cross_val_score(model,std_x1, raw_y, cv = 10, scoring='accuracy')\n",
    "mean_acc = np.array(acc).mean()\n",
    "mean_acc"
   ]
  },
  {
   "cell_type": "code",
   "execution_count": 16,
   "id": "75c0de77",
   "metadata": {},
   "outputs": [
    {
     "data": {
      "text/plain": [
       "(40480, 5)"
      ]
     },
     "execution_count": 16,
     "metadata": {},
     "output_type": "execute_result"
    }
   ],
   "source": [
    "#进行PCA降维\n",
    "pca=PCA(n_components=5,whiten='full')\n",
    "pca.fit(std_x1)\n",
    "std_x1PCA=pca.transform(std_x1)\n",
    "std_x1PCA.shape"
   ]
  },
  {
   "cell_type": "code",
   "execution_count": 25,
   "id": "94b4bdca",
   "metadata": {},
   "outputs": [
    {
     "name": "stdout",
     "output_type": "stream",
     "text": [
      "0.8555335968379445\n",
      "0.9002470355731225\n",
      "0.8999752964426879\n"
     ]
    }
   ],
   "source": [
    "#归一择取后的6个特征，进行降维到3,4,5维的正确率\n",
    "ans=[]\n",
    "for i in range(3,6):\n",
    "    pca=PCA(n_components=i,whiten='full')\n",
    "    pca.fit(std_x1)\n",
    "    std_x1PCA=pca.transform(std_x1)\n",
    "    std_x1PCA.shape\n",
    "    model = MLPClassifier(hidden_layer_sizes=(10, 10), max_iter=500)\n",
    "    acc = cross_val_score(model,std_x1PCA, raw_y, cv =10, scoring='accuracy')\n",
    "    mean_acc = np.array(acc).mean()\n",
    "    ans.append(mean_acc)\n",
    "    print(mean_acc)"
   ]
  },
  {
   "cell_type": "code",
   "execution_count": 26,
   "id": "ef9ec24d",
   "metadata": {},
   "outputs": [
    {
     "name": "stdout",
     "output_type": "stream",
     "text": [
      "0.8952569169960475\n",
      "0.8976778656126483\n",
      "0.8994565217391305\n",
      "0.9008399209486166\n"
     ]
    }
   ],
   "source": [
    "#对所有归一化的8个特征，降维到4,5,6,7维的正确率\n",
    "ans=[]\n",
    "for i in range(4,8):\n",
    "    pca=PCA(n_components=i,whiten='full')\n",
    "    pca.fit(std_x)\n",
    "    std_xPCA=pca.transform(std_x)\n",
    "    std_xPCA.shape\n",
    "\n",
    "    model = MLPClassifier(hidden_layer_sizes=(10, 10), max_iter=500)\n",
    "    acc = cross_val_score(model,std_xPCA, raw_y, cv =10, scoring='accuracy')\n",
    "    mean_acc = np.array(acc).mean()\n",
    "    ans.append(mean_acc)\n",
    "    print(mean_acc)"
   ]
  },
  {
   "cell_type": "code",
   "execution_count": 18,
   "id": "452085dc",
   "metadata": {},
   "outputs": [],
   "source": [
    "kf = KFold(n_splits=10, shuffle=True, random_state=1)\n",
    "#kf = KFold(n_splits=10)"
   ]
  },
  {
   "cell_type": "code",
   "execution_count": 19,
   "id": "1e0ba776",
   "metadata": {},
   "outputs": [
    {
     "data": {
      "text/plain": [
       "0.9370800395256916"
      ]
     },
     "execution_count": 19,
     "metadata": {},
     "output_type": "execute_result"
    }
   ],
   "source": [
    "#进行kfold的shuffle为True时的打乱顺序即洗牌的交叉验证\n",
    "model = MLPClassifier(hidden_layer_sizes=(10, 10), max_iter=500)\n",
    "acc = cross_val_score(model,std_xPCA, raw_y, cv = kf, scoring='accuracy')\n",
    "mean_acc = np.array(acc).mean()\n",
    "mean_acc"
   ]
  },
  {
   "cell_type": "code",
   "execution_count": 22,
   "id": "7f540529",
   "metadata": {},
   "outputs": [
    {
     "data": {
      "text/plain": [
       "0.9400197628458498"
      ]
     },
     "execution_count": 22,
     "metadata": {},
     "output_type": "execute_result"
    }
   ],
   "source": [
    "#进行kfold的shuffle为True时的打乱顺序即洗牌的交叉验证\n",
    "model = MLPClassifier(hidden_layer_sizes=(10, 10), max_iter=500)\n",
    "acc = cross_val_score(model,std_x, raw_y, cv = kf, scoring='accuracy')\n",
    "mean_acc = np.array(acc).mean()\n",
    "mean_acc"
   ]
  }
 ],
 "metadata": {
  "kernelspec": {
   "display_name": "trian",
   "language": "python",
   "name": "trian"
  },
  "language_info": {
   "codemirror_mode": {
    "name": "ipython",
    "version": 3
   },
   "file_extension": ".py",
   "mimetype": "text/x-python",
   "name": "python",
   "nbconvert_exporter": "python",
   "pygments_lexer": "ipython3",
   "version": "3.9.12"
  }
 },
 "nbformat": 4,
 "nbformat_minor": 5
}
